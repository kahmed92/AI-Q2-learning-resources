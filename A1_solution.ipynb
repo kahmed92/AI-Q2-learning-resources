{
  "nbformat": 4,
  "nbformat_minor": 0,
  "metadata": {
    "colab": {
      "name": "Copy of A1-solution.ipynb",
      "provenance": [],
      "collapsed_sections": [],
      "authorship_tag": "ABX9TyPL3JKI7hHNh+RMELjU9UHn",
      "include_colab_link": true
    },
    "kernelspec": {
      "name": "python3",
      "display_name": "Python 3"
    }
  },
  "cells": [
    {
      "cell_type": "markdown",
      "metadata": {
        "id": "view-in-github",
        "colab_type": "text"
      },
      "source": [
        "<a href=\"https://colab.research.google.com/github/kahmed92/AI-Q2-learning-resources/blob/master/A1_solution.ipynb\" target=\"_parent\"><img src=\"https://colab.research.google.com/assets/colab-badge.svg\" alt=\"Open In Colab\"/></a>"
      ]
    },
    {
      "cell_type": "markdown",
      "metadata": {
        "id": "h1lYuaTVulWc"
      },
      "source": [
        "# Assignment For Numpy\r\n",
        "Difficulty Level **Beginner**\r\n",
        "\r\n",
        "Import the numpy package under the name np"
      ]
    },
    {
      "cell_type": "code",
      "metadata": {
        "id": "JLWEuEpluzvB"
      },
      "source": [
        "import numpy as np"
      ],
      "execution_count": null,
      "outputs": []
    },
    {
      "cell_type": "markdown",
      "metadata": {
        "id": "fAfXfCTxu9HS"
      },
      "source": [
        "**Question:**\r\n",
        "Create a null vector of size 10"
      ]
    },
    {
      "cell_type": "code",
      "metadata": {
        "id": "Wpov_sCsLc_b"
      },
      "source": [
        "x=np.zeros(10)"
      ],
      "execution_count": null,
      "outputs": []
    },
    {
      "cell_type": "markdown",
      "metadata": {
        "id": "I18wYuXsvKRm"
      },
      "source": [
        "**Question:**\r\n",
        "Create a vector with values ranging from 10 to 49"
      ]
    },
    {
      "cell_type": "code",
      "metadata": {
        "id": "aYYm_F-dLn5n"
      },
      "source": [
        "y=np.arange(10,50)"
      ],
      "execution_count": null,
      "outputs": []
    },
    {
      "cell_type": "markdown",
      "metadata": {
        "id": "YwlTnQJTvPMm"
      },
      "source": [
        "**Question: **\r\n",
        "Find the shape of previous array in question 3"
      ]
    },
    {
      "cell_type": "code",
      "metadata": {
        "colab": {
          "base_uri": "https://localhost:8080/"
        },
        "id": "qxeUX0doL4G8",
        "outputId": "318ba97a-28e9-4fdd-93ea-1892a056915d"
      },
      "source": [
        "y.shape"
      ],
      "execution_count": null,
      "outputs": [
        {
          "output_type": "execute_result",
          "data": {
            "text/plain": [
              "(40,)"
            ]
          },
          "metadata": {
            "tags": []
          },
          "execution_count": 10
        }
      ]
    },
    {
      "cell_type": "markdown",
      "metadata": {
        "id": "k4-hcqj1vWC3"
      },
      "source": [
        "**Question:**\r\n",
        "Print the type of the previous array in question 3"
      ]
    },
    {
      "cell_type": "code",
      "metadata": {
        "colab": {
          "base_uri": "https://localhost:8080/"
        },
        "id": "8pK_bqJtL86q",
        "outputId": "6a711241-a781-4004-8390-201f2d0569b5"
      },
      "source": [
        "y.astype"
      ],
      "execution_count": null,
      "outputs": [
        {
          "output_type": "execute_result",
          "data": {
            "text/plain": [
              "<function ndarray.astype>"
            ]
          },
          "metadata": {
            "tags": []
          },
          "execution_count": 12
        }
      ]
    },
    {
      "cell_type": "markdown",
      "metadata": {
        "id": "OXswFNZjvc__"
      },
      "source": [
        "**Question:**\r\n",
        "Print the numpy version and the configuration"
      ]
    },
    {
      "cell_type": "code",
      "metadata": {
        "colab": {
          "base_uri": "https://localhost:8080/"
        },
        "id": "XAacDTsmOMmq",
        "outputId": "4c9d9996-2c79-4086-87eb-7937ea2c818b"
      },
      "source": [
        "print(np.__version__)"
      ],
      "execution_count": null,
      "outputs": [
        {
          "output_type": "stream",
          "text": [
            "1.19.4\n"
          ],
          "name": "stdout"
        }
      ]
    },
    {
      "cell_type": "markdown",
      "metadata": {
        "id": "8qtglybJvl69"
      },
      "source": [
        "**Question:**\r\n",
        "Print the dimension of the array in question 3"
      ]
    },
    {
      "cell_type": "code",
      "metadata": {
        "colab": {
          "base_uri": "https://localhost:8080/"
        },
        "id": "YkjfzcC2ORlp",
        "outputId": "9f930316-8e95-4209-a4b5-adc15f926d44"
      },
      "source": [
        "y.ndim"
      ],
      "execution_count": null,
      "outputs": [
        {
          "output_type": "execute_result",
          "data": {
            "text/plain": [
              "1"
            ]
          },
          "metadata": {
            "tags": []
          },
          "execution_count": 15
        }
      ]
    },
    {
      "cell_type": "markdown",
      "metadata": {
        "id": "fjdfTvSFvphQ"
      },
      "source": [
        "**Question:**\r\n",
        "Create a boolean array with all the True values"
      ]
    },
    {
      "cell_type": "code",
      "metadata": {
        "id": "913qYEArOaXK"
      },
      "source": [
        "z=np.ones(2,dtype=bool)"
      ],
      "execution_count": null,
      "outputs": []
    },
    {
      "cell_type": "markdown",
      "metadata": {
        "id": "5aV4FWiavs-9"
      },
      "source": [
        "**Question:**\r\n",
        "Create a two dimensional array"
      ]
    },
    {
      "cell_type": "code",
      "metadata": {
        "id": "gGS0Qdq6Pkku"
      },
      "source": [
        "import numpy as np\r\n",
        "x=np.arange(2,2)"
      ],
      "execution_count": null,
      "outputs": []
    },
    {
      "cell_type": "markdown",
      "metadata": {
        "id": "ZUiJgIhcvxi1"
      },
      "source": [
        "**Question:**\r\n",
        "Create a three dimensional array"
      ]
    },
    {
      "cell_type": "code",
      "metadata": {
        "id": "EiKjyFtdQb2S"
      },
      "source": [
        "y=np.arange(2,2,2)"
      ],
      "execution_count": null,
      "outputs": []
    },
    {
      "cell_type": "markdown",
      "metadata": {
        "id": "dU1-094Nv0nU"
      },
      "source": [
        "Difficulty Level **Easy**\r\n",
        "\r\n",
        "**Question:**\r\n",
        "\r\n",
        "Reverse a vector (first element becomes last)"
      ]
    },
    {
      "cell_type": "code",
      "metadata": {
        "id": "zuB0ydrMQqZK",
        "colab": {
          "base_uri": "https://localhost:8080/"
        },
        "outputId": "7a3ff52f-a38f-4d36-a3fc-bdd5eb2a9986"
      },
      "source": [
        "z=np.arange(50)\r\n",
        "z"
      ],
      "execution_count": 53,
      "outputs": [
        {
          "output_type": "execute_result",
          "data": {
            "text/plain": [
              "array([ 0,  1,  2,  3,  4,  5,  6,  7,  8,  9, 10, 11, 12, 13, 14, 15, 16,\n",
              "       17, 18, 19, 20, 21, 22, 23, 24, 25, 26, 27, 28, 29, 30, 31, 32, 33,\n",
              "       34, 35, 36, 37, 38, 39, 40, 41, 42, 43, 44, 45, 46, 47, 48, 49])"
            ]
          },
          "metadata": {
            "tags": []
          },
          "execution_count": 53
        }
      ]
    },
    {
      "cell_type": "code",
      "metadata": {
        "id": "MrycRlowRYoY",
        "colab": {
          "base_uri": "https://localhost:8080/"
        },
        "outputId": "b5cb3f21-c46c-441e-edb1-1c99d9fa3638"
      },
      "source": [
        "z=z[::-1]\r\n",
        "z"
      ],
      "execution_count": 56,
      "outputs": [
        {
          "output_type": "execute_result",
          "data": {
            "text/plain": [
              "array([49, 48, 47, 46, 45, 44, 43, 42, 41, 40, 39, 38, 37, 36, 35, 34, 33,\n",
              "       32, 31, 30, 29, 28, 27, 26, 25, 24, 23, 22, 21, 20, 19, 18, 17, 16,\n",
              "       15, 14, 13, 12, 11, 10,  9,  8,  7,  6,  5,  4,  3,  2,  1,  0])"
            ]
          },
          "metadata": {
            "tags": []
          },
          "execution_count": 56
        }
      ]
    },
    {
      "cell_type": "markdown",
      "metadata": {
        "id": "nBt0D2mXwStg"
      },
      "source": [
        "**Question:**\r\n",
        "Create a null vector of size 10 but the fifth value which is 1"
      ]
    },
    {
      "cell_type": "code",
      "metadata": {
        "colab": {
          "base_uri": "https://localhost:8080/"
        },
        "id": "aF618KD7Rp5_",
        "outputId": "793b7874-b8b5-431d-e074-ed76d26cecc2"
      },
      "source": [
        "x=np.eye(10)[4]\r\n",
        "x"
      ],
      "execution_count": null,
      "outputs": [
        {
          "output_type": "execute_result",
          "data": {
            "text/plain": [
              "array([0., 0., 0., 0., 1., 0., 0., 0., 0., 0.])"
            ]
          },
          "metadata": {
            "tags": []
          },
          "execution_count": 28
        }
      ]
    },
    {
      "cell_type": "markdown",
      "metadata": {
        "id": "CpEIufDJwYNo"
      },
      "source": [
        "**Question:**\r\n",
        "Create a 3x3 identity matrix"
      ]
    },
    {
      "cell_type": "code",
      "metadata": {
        "colab": {
          "base_uri": "https://localhost:8080/"
        },
        "id": "uR77SWHLXbDR",
        "outputId": "fbc7a2d8-c008-47c4-d793-f62d4fef8e0c"
      },
      "source": [
        "y=np.eye(3)\r\n",
        "y"
      ],
      "execution_count": null,
      "outputs": [
        {
          "output_type": "execute_result",
          "data": {
            "text/plain": [
              "array([[1., 0., 0.],\n",
              "       [0., 1., 0.],\n",
              "       [0., 0., 1.]])"
            ]
          },
          "metadata": {
            "tags": []
          },
          "execution_count": 2
        }
      ]
    },
    {
      "cell_type": "markdown",
      "metadata": {
        "id": "ZPSXJxEawgZc"
      },
      "source": [
        "**Question:**\r\n",
        "arr = np.array([1, 2, 3, 4, 5])\r\n",
        "\r\n",
        "Convert the data type of the given array from int to float"
      ]
    },
    {
      "cell_type": "code",
      "metadata": {
        "colab": {
          "base_uri": "https://localhost:8080/"
        },
        "id": "IrXsPKlVzMCD",
        "outputId": "3619c891-3a7f-4e83-f9ff-df070a54794d"
      },
      "source": [
        "arr = np.array([1, 2, 3, 4, 5])\r\n",
        "arr=np.asarray(arr,dtype=float)\r\n",
        "arr"
      ],
      "execution_count": 57,
      "outputs": [
        {
          "output_type": "execute_result",
          "data": {
            "text/plain": [
              "array([1., 2., 3., 4., 5.])"
            ]
          },
          "metadata": {
            "tags": []
          },
          "execution_count": 57
        }
      ]
    },
    {
      "cell_type": "markdown",
      "metadata": {
        "id": "GaV415zpwl_7"
      },
      "source": [
        "**Question:**\r\n",
        "arr1 = np.array([[1., 2., 3.],\r\n",
        "\r\n",
        "            [4., 5., 6.]])  \r\n",
        "\r\n",
        "arr2 = np.array([[0., 4., 1.],\r\n",
        "\r\n",
        "           [7., 2., 12.]])\r\n",
        "Multiply arr1 with arr2"
      ]
    },
    {
      "cell_type": "code",
      "metadata": {
        "id": "Lu-BE5m60J44"
      },
      "source": [
        "arr1 = np.array([[1., 2., 3.],[4., 5., 6.]])  \r\n",
        "arr2 = np.array([[0., 4., 1.],[7., 2., 12.]])\r\n",
        "arr3 = arr1 * arr2"
      ],
      "execution_count": null,
      "outputs": []
    },
    {
      "cell_type": "markdown",
      "metadata": {
        "id": "84DNxunoxA2J"
      },
      "source": [
        "**Question:**\r\n",
        "arr1 = np.array([[1., 2., 3.],\r\n",
        "\r\n",
        "            [4., 5., 6.]]) \r\n",
        "\r\n",
        "arr2 = np.array([[0., 4., 1.],\r\n",
        "\r\n",
        "            [7., 2., 12.]])\r\n",
        "Make an array by comparing both the arrays provided above"
      ]
    },
    {
      "cell_type": "code",
      "metadata": {
        "colab": {
          "base_uri": "https://localhost:8080/"
        },
        "id": "sRkZPeB5957F",
        "outputId": "d45a4b75-c984-49a8-f3e7-969b1f764bc1"
      },
      "source": [
        "arr3=(arr1==arr2)\r\n",
        "arr3"
      ],
      "execution_count": null,
      "outputs": [
        {
          "output_type": "execute_result",
          "data": {
            "text/plain": [
              "array([[False, False, False],\n",
              "       [False, False, False]])"
            ]
          },
          "metadata": {
            "tags": []
          },
          "execution_count": 15
        }
      ]
    },
    {
      "cell_type": "markdown",
      "metadata": {
        "id": "SSh2F-K24xS7"
      },
      "source": [
        "**Question:**\r\n",
        "Extract all odd numbers from arr with values(0-9)"
      ]
    },
    {
      "cell_type": "code",
      "metadata": {
        "colab": {
          "base_uri": "https://localhost:8080/"
        },
        "id": "8YmPJl80BysB",
        "outputId": "3153cb83-7e85-4e7d-aeb2-1a06b6e9adf8"
      },
      "source": [
        "arr=np.arange(0,10)\r\n",
        "ao=(arr[arr%2==1])\r\n",
        "ao"
      ],
      "execution_count": null,
      "outputs": [
        {
          "output_type": "execute_result",
          "data": {
            "text/plain": [
              "array([1, 3, 5, 7, 9])"
            ]
          },
          "metadata": {
            "tags": []
          },
          "execution_count": 5
        }
      ]
    },
    {
      "cell_type": "markdown",
      "metadata": {
        "id": "qe92VyOrB7dT"
      },
      "source": [
        "**Question:**\r\n",
        "Replace all odd numbers to -1 from previous array"
      ]
    },
    {
      "cell_type": "code",
      "metadata": {
        "colab": {
          "base_uri": "https://localhost:8080/"
        },
        "id": "c7is2dNrFzyZ",
        "outputId": "337375e7-2384-47c0-cad3-0ca1a1afa938"
      },
      "source": [
        "aa=(ao/ao)*-1\r\n",
        "aa"
      ],
      "execution_count": null,
      "outputs": [
        {
          "output_type": "execute_result",
          "data": {
            "text/plain": [
              "array([-1., -1., -1., -1., -1.])"
            ]
          },
          "metadata": {
            "tags": []
          },
          "execution_count": 9
        }
      ]
    },
    {
      "cell_type": "markdown",
      "metadata": {
        "id": "WFrCDkRUCAsP"
      },
      "source": [
        "**Question:**\r\n",
        "arr = np.arange(10)\r\n",
        "Replace the values of indexes 5,6,7 and 8 to 12"
      ]
    },
    {
      "cell_type": "code",
      "metadata": {
        "colab": {
          "base_uri": "https://localhost:8080/"
        },
        "id": "s6GhF-R9GgRW",
        "outputId": "285451e0-b05d-4a6c-ab97-24100873b8aa"
      },
      "source": [
        "arr = np.arange(10)\r\n",
        "arr[-5:-1]=12\r\n",
        "arr"
      ],
      "execution_count": null,
      "outputs": [
        {
          "output_type": "execute_result",
          "data": {
            "text/plain": [
              "array([ 0,  1,  2,  3,  4, 12, 12, 12, 12,  9])"
            ]
          },
          "metadata": {
            "tags": []
          },
          "execution_count": 18
        }
      ]
    },
    {
      "cell_type": "markdown",
      "metadata": {
        "id": "VW1--QsLCIbA"
      },
      "source": [
        "**Question:**\r\n",
        "Create a 2d array with 1 on the border and 0 inside"
      ]
    },
    {
      "cell_type": "code",
      "metadata": {
        "colab": {
          "base_uri": "https://localhost:8080/"
        },
        "id": "TSrjxZg-KQYC",
        "outputId": "d55438c9-a4bc-46a1-c797-7495d44418ff"
      },
      "source": [
        "arr=np.ones((4,4))\r\n",
        "arr[1:-1,1:-1]=0\r\n",
        "arr"
      ],
      "execution_count": null,
      "outputs": [
        {
          "output_type": "execute_result",
          "data": {
            "text/plain": [
              "array([[1., 1., 1., 1.],\n",
              "       [1., 0., 0., 1.],\n",
              "       [1., 0., 0., 1.],\n",
              "       [1., 1., 1., 1.]])"
            ]
          },
          "metadata": {
            "tags": []
          },
          "execution_count": 26
        }
      ]
    },
    {
      "cell_type": "markdown",
      "metadata": {
        "id": "qwbmORhzCMo4"
      },
      "source": [
        "**Question:**\r\n",
        "Difficulty Level **Medium**\r\n",
        "\r\n",
        "arr2d = np.array([[1, 2, 3],\r\n",
        "\r\n",
        "            [4, 5, 6], \r\n",
        "\r\n",
        "            [7, 8, 9]])\r\n",
        "Replace the value 5 to 12"
      ]
    },
    {
      "cell_type": "code",
      "metadata": {
        "colab": {
          "base_uri": "https://localhost:8080/"
        },
        "id": "qqEj-fGSRCI6",
        "outputId": "8f4c7f51-420b-45b0-fc19-89e628dcf85f"
      },
      "source": [
        "arr2d = np.array([[1, 2, 3],\r\n",
        "            [4, 5, 6], \r\n",
        "            [7, 8, 9]])\r\n",
        "arr2d[1,1]=12\r\n",
        "arr2d"
      ],
      "execution_count": null,
      "outputs": [
        {
          "output_type": "execute_result",
          "data": {
            "text/plain": [
              "array([[ 1,  2,  3],\n",
              "       [ 4, 12,  6],\n",
              "       [ 7,  8,  9]])"
            ]
          },
          "metadata": {
            "tags": []
          },
          "execution_count": 31
        }
      ]
    },
    {
      "cell_type": "markdown",
      "metadata": {
        "id": "ERKkEVPTCWnr"
      },
      "source": [
        "**Question:**\r\n",
        "arr3d = np.array([[[1, 2, 3], [4, 5, 6]], [[7, 8, 9], [10, 11, 12]]])\r\n",
        "Convert all the values of 1st array to 64"
      ]
    },
    {
      "cell_type": "code",
      "metadata": {
        "colab": {
          "base_uri": "https://localhost:8080/"
        },
        "id": "Hi15I2B6SV1m",
        "outputId": "c1d5faba-ffdf-45bd-f49c-f0b87369b246"
      },
      "source": [
        "arr3d = np.array([[[1, 2, 3], [4, 5, 6]], [[7, 8, 9], [10, 11, 12]]])\r\n",
        "arr3d[0,0,:]=64\r\n",
        "arr3d"
      ],
      "execution_count": null,
      "outputs": [
        {
          "output_type": "execute_result",
          "data": {
            "text/plain": [
              "array([[[64, 64, 64],\n",
              "        [ 4,  5,  6]],\n",
              "\n",
              "       [[ 7,  8,  9],\n",
              "        [10, 11, 12]]])"
            ]
          },
          "metadata": {
            "tags": []
          },
          "execution_count": 10
        }
      ]
    },
    {
      "cell_type": "markdown",
      "metadata": {
        "id": "8FSqYcvGCcvF"
      },
      "source": [
        "**Question:**\r\n",
        "Make a 2-Dimensional array with values 0-9 and slice out the first 1st 1-D array from it"
      ]
    },
    {
      "cell_type": "code",
      "metadata": {
        "colab": {
          "base_uri": "https://localhost:8080/"
        },
        "id": "hxWas-T3hgAo",
        "outputId": "e960e64f-b87c-4317-a80f-5f35f0f360d1"
      },
      "source": [
        "arr2d = np.arange(9).reshape(3,3)\r\n",
        "arr2d[0:1]"
      ],
      "execution_count": null,
      "outputs": [
        {
          "output_type": "execute_result",
          "data": {
            "text/plain": [
              "array([[0, 1, 2]])"
            ]
          },
          "metadata": {
            "tags": []
          },
          "execution_count": 22
        }
      ]
    },
    {
      "cell_type": "markdown",
      "metadata": {
        "id": "48UQz4N9Cj9p"
      },
      "source": [
        "**Question:**\r\n",
        "Make a 2-Dimensional array with values 0-9 and slice out the 2nd value from 2nd 1-D array from it"
      ]
    },
    {
      "cell_type": "code",
      "metadata": {
        "colab": {
          "base_uri": "https://localhost:8080/"
        },
        "id": "KoapKSo8j148",
        "outputId": "acbd434b-5562-4695-fa57-659101731494"
      },
      "source": [
        "arr2d = np.arange(9).reshape(3,3)\r\n",
        "arr2d[1:2]"
      ],
      "execution_count": null,
      "outputs": [
        {
          "output_type": "execute_result",
          "data": {
            "text/plain": [
              "array([[3, 4, 5]])"
            ]
          },
          "metadata": {
            "tags": []
          },
          "execution_count": 24
        }
      ]
    },
    {
      "cell_type": "markdown",
      "metadata": {
        "id": "DWdL5rESCwFR"
      },
      "source": [
        "**Question:**\r\n",
        "Make a 2-Dimensional array with values 0-9 and slice out the third column but only the first two rows"
      ]
    },
    {
      "cell_type": "code",
      "metadata": {
        "colab": {
          "base_uri": "https://localhost:8080/"
        },
        "id": "lr45nbZ2kB84",
        "outputId": "ec032216-854d-4732-a83b-5ad80d5fdb60"
      },
      "source": [
        "arr2d = np.arange(9).reshape(3,3)\r\n",
        "arr2d[0:2,2:3]"
      ],
      "execution_count": 58,
      "outputs": [
        {
          "output_type": "execute_result",
          "data": {
            "text/plain": [
              "array([[2],\n",
              "       [5]])"
            ]
          },
          "metadata": {
            "tags": []
          },
          "execution_count": 58
        }
      ]
    },
    {
      "cell_type": "markdown",
      "metadata": {
        "id": "29Hy86qFC2YX"
      },
      "source": [
        "**Question:**\r\n",
        "Create a 10x10 array with random values and find the minimum and maximum values"
      ]
    },
    {
      "cell_type": "code",
      "metadata": {
        "colab": {
          "base_uri": "https://localhost:8080/"
        },
        "id": "7yrB3Zd2pNy8",
        "outputId": "8a14b980-f4d5-4397-fd06-86ab4cea62bf"
      },
      "source": [
        "arr2d = np.arange(100).reshape(10,10)\r\n",
        "arr2d.max()\r\n"
      ],
      "execution_count": null,
      "outputs": [
        {
          "output_type": "execute_result",
          "data": {
            "text/plain": [
              "99"
            ]
          },
          "metadata": {
            "tags": []
          },
          "execution_count": 89
        }
      ]
    },
    {
      "cell_type": "code",
      "metadata": {
        "colab": {
          "base_uri": "https://localhost:8080/"
        },
        "id": "REyXgnm_qpww",
        "outputId": "bfba96bd-cc90-4095-b422-644c74b8c4cd"
      },
      "source": [
        "arr2d.min()\r\n"
      ],
      "execution_count": null,
      "outputs": [
        {
          "output_type": "execute_result",
          "data": {
            "text/plain": [
              "0"
            ]
          },
          "metadata": {
            "tags": []
          },
          "execution_count": 90
        }
      ]
    },
    {
      "cell_type": "markdown",
      "metadata": {
        "id": "wLzKdDJBDVnk"
      },
      "source": [
        "**Question:**\r\n",
        "a = np.array([1,2,3,2,3,4,3,4,5,6]) b = np.array([7,2,10,2,7,4,9,4,9,8])\r\n",
        "Find the common items between a and b"
      ]
    },
    {
      "cell_type": "code",
      "metadata": {
        "colab": {
          "base_uri": "https://localhost:8080/"
        },
        "id": "1azr4AzOvUet",
        "outputId": "5bf3a0db-dc0d-4d2c-f5c0-4d0397282ff5"
      },
      "source": [
        "a = np.array([1,2,3,2,3,4,3,4,5,6]) \r\n",
        "b = np.array([7,2,10,2,7,4,9,4,9,8])\r\n",
        "print(np.intersect1d(a,b))"
      ],
      "execution_count": null,
      "outputs": [
        {
          "output_type": "stream",
          "text": [
            "[2 4]\n"
          ],
          "name": "stdout"
        }
      ]
    },
    {
      "cell_type": "markdown",
      "metadata": {
        "id": "O1fWjC5bDg0G"
      },
      "source": [
        "**Question:**\r\n",
        "a = np.array([1,2,3,2,3,4,3,4,5,6]) b = np.array([7,2,10,2,7,4,9,4,9,8])\r\n",
        "Find the positions where elements of a and b match"
      ]
    },
    {
      "cell_type": "code",
      "metadata": {
        "colab": {
          "base_uri": "https://localhost:8080/"
        },
        "id": "S-PMevq0w0K7",
        "outputId": "a2e438a4-3f0d-4d38-e7aa-6bc45f6365e8"
      },
      "source": [
        "np.where(np.in1d(a,b))[0]"
      ],
      "execution_count": null,
      "outputs": [
        {
          "output_type": "execute_result",
          "data": {
            "text/plain": [
              "array([1, 3, 5, 7])"
            ]
          },
          "metadata": {
            "tags": []
          },
          "execution_count": 3
        }
      ]
    },
    {
      "cell_type": "markdown",
      "metadata": {
        "id": "cNwMLFCuDsbG"
      },
      "source": [
        "**Question:**\r\n",
        "names = np.array(['Bob', 'Joe', 'Will', 'Bob', 'Will', 'Joe', 'Joe']) \r\n",
        "\r\n",
        "data = np.random.randn(7, 4)\r\n",
        "\r\n",
        "Find all the values from array data where the values from array names are not equal to Will and Joe"
      ]
    },
    {
      "cell_type": "code",
      "metadata": {
        "colab": {
          "base_uri": "https://localhost:8080/"
        },
        "id": "DM5JiUS4ukPP",
        "outputId": "bf2f248c-5203-4219-a860-97a051172dd4"
      },
      "source": [
        "names = np.array(['Bob', 'Joe', 'Will', 'Bob', 'Will', 'Joe', 'Joe']) \r\n",
        "data = np.random.randn(7, 4)\r\n",
        "fil = (names == 'Will') | (names == 'Joe')\r\n",
        "fil\r\n",
        "data[fil]"
      ],
      "execution_count": null,
      "outputs": [
        {
          "output_type": "execute_result",
          "data": {
            "text/plain": [
              "array([[ 0.28650564,  3.17786839, -0.64451151, -1.15794374],\n",
              "       [ 0.81610452, -1.90129329, -2.17654663, -0.14052631],\n",
              "       [ 1.0393915 ,  0.65248512,  0.96375936,  0.1910044 ],\n",
              "       [ 1.64779498,  0.29191295,  0.65347176,  0.54530411],\n",
              "       [-0.91494141,  0.04036231, -2.84296464,  1.01631811]])"
            ]
          },
          "metadata": {
            "tags": []
          },
          "execution_count": 11
        }
      ]
    },
    {
      "cell_type": "markdown",
      "metadata": {
        "id": "DszoeBvTEY8_"
      },
      "source": [
        "**Question:**\r\n",
        "Difficulty Level **Hard**\r\n",
        "\r\n",
        "Create a 2D array of shape 5x3 to contain decimal numbers between 1 and 15."
      ]
    },
    {
      "cell_type": "code",
      "metadata": {
        "colab": {
          "base_uri": "https://localhost:8080/"
        },
        "id": "P5E3YiOH5koO",
        "outputId": "e57d5546-c302-44a4-c602-d5448056facc"
      },
      "source": [
        "arr=np.arange(15).reshape(5,3)+np.random.randn(5,3)\r\n",
        "arr"
      ],
      "execution_count": null,
      "outputs": [
        {
          "output_type": "execute_result",
          "data": {
            "text/plain": [
              "array([[-0.03886634,  1.56799421,  2.43889758],\n",
              "       [ 4.27029562,  0.57605481,  5.06542998],\n",
              "       [ 5.90867498,  8.30826402,  6.85277096],\n",
              "       [10.57592959, 10.32202716, 10.40407658],\n",
              "       [13.13595304, 13.72925872, 13.6404918 ]])"
            ]
          },
          "metadata": {
            "tags": []
          },
          "execution_count": 6
        }
      ]
    },
    {
      "cell_type": "markdown",
      "metadata": {
        "id": "2ijhQmbBKkQq"
      },
      "source": [
        "**Question**\r\n",
        "Create an array of shape (2, 2, 4) with decimal numbers between 1 to 16."
      ]
    },
    {
      "cell_type": "code",
      "metadata": {
        "colab": {
          "base_uri": "https://localhost:8080/"
        },
        "id": "4t87rZSawy42",
        "outputId": "bf724207-4bef-469d-8aa9-7f8bf38299f4"
      },
      "source": [
        "a_3d_array = np.arange(16).reshape(2, 2, 4) + np.random.rand(2,2,4)\r\n",
        "print(a_3d_array)"
      ],
      "execution_count": 11,
      "outputs": [
        {
          "output_type": "stream",
          "text": [
            "[[[ 0.1777643   1.32752969  2.69806142  3.99642666]\n",
            "  [ 4.53479939  5.56343612  6.08685196  7.70584385]]\n",
            "\n",
            " [[ 8.82510723  9.29501621 10.60270085 11.79404602]\n",
            "  [12.3843939  13.20464751 14.35260253 15.09570811]]]\n"
          ],
          "name": "stdout"
        }
      ]
    },
    {
      "cell_type": "markdown",
      "metadata": {
        "id": "VUAq2oDoKvVO"
      },
      "source": [
        "**Question:**\r\n",
        "Swap axes of the array you created in Question 32"
      ]
    },
    {
      "cell_type": "code",
      "metadata": {
        "id": "6X6MxbgZ5w69",
        "colab": {
          "base_uri": "https://localhost:8080/"
        },
        "outputId": "7acf6e97-c08b-4e71-9364-79f833dbe804"
      },
      "source": [
        "a_3d_array=np.swapaxes(a_3d_array,2,1)\r\n",
        "print(a_3d_array)"
      ],
      "execution_count": 16,
      "outputs": [
        {
          "output_type": "stream",
          "text": [
            "[[[ 0.1777643   4.53479939]\n",
            "  [ 1.32752969  5.56343612]\n",
            "  [ 2.69806142  6.08685196]\n",
            "  [ 3.99642666  7.70584385]]\n",
            "\n",
            " [[ 8.82510723 12.3843939 ]\n",
            "  [ 9.29501621 13.20464751]\n",
            "  [10.60270085 14.35260253]\n",
            "  [11.79404602 15.09570811]]]\n"
          ],
          "name": "stdout"
        }
      ]
    },
    {
      "cell_type": "markdown",
      "metadata": {
        "id": "uRPNKjhRK0Pi"
      },
      "source": [
        "**Question:**\r\n",
        "Create an array of size 10, and find the square root of every element in the array, if the values less than 0.5, replace them with 0"
      ]
    },
    {
      "cell_type": "code",
      "metadata": {
        "colab": {
          "base_uri": "https://localhost:8080/"
        },
        "id": "1iEOSoPA9n5G",
        "outputId": "e1f3fbb4-859c-45e1-f8cc-65ce71fd463b"
      },
      "source": [
        "arr=np.arange(10) ** 0.5\r\n",
        "arr[arr<0.5]=0\r\n",
        "print(arr)"
      ],
      "execution_count": 24,
      "outputs": [
        {
          "output_type": "stream",
          "text": [
            "[0.         1.         1.41421356 1.73205081 2.         2.23606798\n",
            " 2.44948974 2.64575131 2.82842712 3.        ]\n"
          ],
          "name": "stdout"
        }
      ]
    },
    {
      "cell_type": "markdown",
      "metadata": {
        "id": "1Xl1ih_SK8lL"
      },
      "source": [
        "**Question:**\r\n",
        "Create two random arrays of range 12 and make an array with the maximum values between each element of the two arrays"
      ]
    },
    {
      "cell_type": "code",
      "metadata": {
        "colab": {
          "base_uri": "https://localhost:8080/"
        },
        "id": "qshrnwER_Ulg",
        "outputId": "a883e882-4b78-4c76-c26c-1e4b9b8bd251"
      },
      "source": [
        "arr1=np.arange(np.random.randint(12))\r\n",
        "arr2=np.arange(np.random.randint(12))\r\n",
        "arr1\r\n"
      ],
      "execution_count": 9,
      "outputs": [
        {
          "output_type": "execute_result",
          "data": {
            "text/plain": [
              "array([0, 1, 2, 3, 4, 5])"
            ]
          },
          "metadata": {
            "tags": []
          },
          "execution_count": 9
        }
      ]
    },
    {
      "cell_type": "code",
      "metadata": {
        "colab": {
          "base_uri": "https://localhost:8080/"
        },
        "id": "4fyw8zNDIePO",
        "outputId": "6a371c0f-9535-4e5e-e51f-e215414d5039"
      },
      "source": [
        "arr2"
      ],
      "execution_count": 10,
      "outputs": [
        {
          "output_type": "execute_result",
          "data": {
            "text/plain": [
              "array([0, 1, 2])"
            ]
          },
          "metadata": {
            "tags": []
          },
          "execution_count": 10
        }
      ]
    },
    {
      "cell_type": "code",
      "metadata": {
        "colab": {
          "base_uri": "https://localhost:8080/"
        },
        "id": "4oi5e4fuIf7M",
        "outputId": "6fcdd4f1-27cf-4d95-8415-4747042dcbcf"
      },
      "source": [
        "arr3=np.append(arr1,arr2)\r\n",
        "np.max(arr3)\r\n"
      ],
      "execution_count": 12,
      "outputs": [
        {
          "output_type": "execute_result",
          "data": {
            "text/plain": [
              "5"
            ]
          },
          "metadata": {
            "tags": []
          },
          "execution_count": 12
        }
      ]
    },
    {
      "cell_type": "markdown",
      "metadata": {
        "id": "ULm0YRQJhTeh"
      },
      "source": [
        "**Question:**\r\n",
        "names = np.array(['Bob', 'Joe', 'Will', 'Bob', 'Will', 'Joe', 'Joe'])\r\n",
        "**Find the unique names and sort them out!**"
      ]
    },
    {
      "cell_type": "code",
      "metadata": {
        "colab": {
          "base_uri": "https://localhost:8080/"
        },
        "id": "KZWCJMIBhMDK",
        "outputId": "79b2ca95-f78d-4666-a88c-69cbd79197cd"
      },
      "source": [
        "names = np.array(['Bob', 'Joe', 'Will', 'Bob', 'Will', 'Joe', 'Joe']) \r\n",
        "np.unique(names)"
      ],
      "execution_count": 13,
      "outputs": [
        {
          "output_type": "execute_result",
          "data": {
            "text/plain": [
              "array(['Bob', 'Joe', 'Will'], dtype='<U4')"
            ]
          },
          "metadata": {
            "tags": []
          },
          "execution_count": 13
        }
      ]
    },
    {
      "cell_type": "markdown",
      "metadata": {
        "id": "J8ukaQSYhQsb"
      },
      "source": [
        "**Question:** \r\n",
        "a = np.array([1,2,3,4,5]) b = np.array([5,6,7,8,9])\r\n",
        "**From array a remove all items present in array b**"
      ]
    },
    {
      "cell_type": "code",
      "metadata": {
        "colab": {
          "base_uri": "https://localhost:8080/"
        },
        "id": "2kv0Eby2iRDB",
        "outputId": "2570deb2-e501-4bc8-eef1-235da58717ae"
      },
      "source": [
        "a = np.array([1,2,3,4,5])\r\n",
        "b = np.array([5,6,7,8,9])\r\n",
        "np.setdiff1d(a,b)"
      ],
      "execution_count": 15,
      "outputs": [
        {
          "output_type": "execute_result",
          "data": {
            "text/plain": [
              "array([1, 2, 3, 4])"
            ]
          },
          "metadata": {
            "tags": []
          },
          "execution_count": 15
        }
      ]
    },
    {
      "cell_type": "markdown",
      "metadata": {
        "id": "vSX-knZfkyLi"
      },
      "source": [
        "**Question:**\r\n",
        "Following is the input NumPy array delete column two and insert following new column in its place.\r\n",
        "\r\n",
        "sampleArray = numpy.array([[34,43,73],[82,22,12],[53,94,66]])\r\n",
        "\r\n",
        "newColumn = numpy.array([[10,10,10]])"
      ]
    },
    {
      "cell_type": "code",
      "metadata": {
        "colab": {
          "base_uri": "https://localhost:8080/"
        },
        "id": "BU3n2UeQk-E7",
        "outputId": "f7555b06-e587-4311-8a77-1b59f03e0fdf"
      },
      "source": [
        "sampleArray = np.array([[34,43,73],[82,22,12],[53,94,66]])\r\n",
        "newColumn = np.array([[10,10,10]])\r\n",
        "sampleArray=np.append(sampleArray,newColumn,axis=0)\r\n",
        "sampleArray=np.delete(sampleArray,2,0)\r\n",
        "np.transpose(sampleArray)"
      ],
      "execution_count": 39,
      "outputs": [
        {
          "output_type": "execute_result",
          "data": {
            "text/plain": [
              "array([[34, 82, 10],\n",
              "       [43, 22, 10],\n",
              "       [73, 12, 10]])"
            ]
          },
          "metadata": {
            "tags": []
          },
          "execution_count": 39
        }
      ]
    },
    {
      "cell_type": "markdown",
      "metadata": {
        "id": "R9Cuhx27q2Es"
      },
      "source": [
        "**Question:**\r\n",
        "x = np.array([[1., 2., 3.], [4., 5., 6.]]) \r\n",
        "\r\n",
        "y = np.array([[6., 23.], [-1, 7], [8, 9]])\r\n",
        "\r\n",
        "Find the dot product of the above two matrix\r\n"
      ]
    },
    {
      "cell_type": "code",
      "metadata": {
        "colab": {
          "base_uri": "https://localhost:8080/"
        },
        "id": "Cd1sQWjwq-iN",
        "outputId": "f03fb8cd-a60d-4f0f-9757-558472197c19"
      },
      "source": [
        "x = np.array([[1., 2., 3.], [4., 5., 6.]])\r\n",
        "y = np.array([[6., 23.], [-1, 7], [8, 9]])\r\n",
        "np.dot(x,y)"
      ],
      "execution_count": 43,
      "outputs": [
        {
          "output_type": "execute_result",
          "data": {
            "text/plain": [
              "array([[ 28.,  64.],\n",
              "       [ 67., 181.]])"
            ]
          },
          "metadata": {
            "tags": []
          },
          "execution_count": 43
        }
      ]
    },
    {
      "cell_type": "markdown",
      "metadata": {
        "id": "Ffy2AVcArwXK"
      },
      "source": [
        "**Question:**\r\n",
        "Generate a matrix of 20 random values and find its cumulative sum"
      ]
    },
    {
      "cell_type": "code",
      "metadata": {
        "colab": {
          "base_uri": "https://localhost:8080/"
        },
        "id": "Eajg8DUvr2Bt",
        "outputId": "d12f7106-8061-4da3-ccd3-67e7296011c6"
      },
      "source": [
        "arr=np.arange(20).reshape(4,5)\r\n",
        "arr=arr*np.random.randint(20)\r\n",
        "np.sum(arr)"
      ],
      "execution_count": 52,
      "outputs": [
        {
          "output_type": "execute_result",
          "data": {
            "text/plain": [
              "1140"
            ]
          },
          "metadata": {
            "tags": []
          },
          "execution_count": 52
        }
      ]
    }
  ]
}