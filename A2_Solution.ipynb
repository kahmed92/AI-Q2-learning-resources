{
  "nbformat": 4,
  "nbformat_minor": 0,
  "metadata": {
    "colab": {
      "name": "A2-Solution.ipynb",
      "provenance": [],
      "collapsed_sections": [],
      "authorship_tag": "ABX9TyOwWRS3kDt+M3LP+eiOT2S6",
      "include_colab_link": true
    },
    "kernelspec": {
      "name": "python3",
      "display_name": "Python 3"
    }
  },
  "cells": [
    {
      "cell_type": "markdown",
      "metadata": {
        "id": "view-in-github",
        "colab_type": "text"
      },
      "source": [
        "<a href=\"https://colab.research.google.com/github/kahmed92/AI-Q2-learning-resources/blob/master/A2_Solution.ipynb\" target=\"_parent\"><img src=\"https://colab.research.google.com/assets/colab-badge.svg\" alt=\"Open In Colab\"/></a>"
      ]
    },
    {
      "cell_type": "markdown",
      "metadata": {
        "id": "xTc12ZNeQtLo"
      },
      "source": [
        "# Numpy_Assignment_2::\r\n",
        "**Question:1**\r\n",
        "Convert a 1D array to a 2D array with 2 rows?\r\n",
        "Desired output::\r\n",
        "\r\n",
        "array([[0, 1, 2, 3, 4], [5, 6, 7, 8, 9]])"
      ]
    },
    {
      "cell_type": "code",
      "metadata": {
        "id": "0o5WZZ-2Q0vW"
      },
      "source": [
        "import numpy as np"
      ],
      "execution_count": 33,
      "outputs": []
    },
    {
      "cell_type": "code",
      "metadata": {
        "colab": {
          "base_uri": "https://localhost:8080/"
        },
        "id": "GDB5b9t0SFLJ",
        "outputId": "e1a95ca4-8d06-4fc5-e17e-280056db3be8"
      },
      "source": [
        "arr=np.arange(10)\r\n",
        "arr=arr.reshape(2,5)\r\n",
        "arr"
      ],
      "execution_count": 4,
      "outputs": [
        {
          "output_type": "execute_result",
          "data": {
            "text/plain": [
              "array([[0, 1, 2, 3, 4],\n",
              "       [5, 6, 7, 8, 9]])"
            ]
          },
          "metadata": {
            "tags": []
          },
          "execution_count": 4
        }
      ]
    },
    {
      "cell_type": "markdown",
      "metadata": {
        "id": "gGai1MdsSXln"
      },
      "source": [
        "**Question:2**\r\n",
        "How to stack two arrays vertically?\r\n",
        "\r\n",
        "Desired Output::\r\n",
        "\r\n",
        "array([[0, 1, 2, 3, 4], [5, 6, 7, 8, 9], [1, 1, 1, 1, 1], [1, 1, 1, 1, 1]])"
      ]
    },
    {
      "cell_type": "code",
      "metadata": {
        "colab": {
          "base_uri": "https://localhost:8080/"
        },
        "id": "OqaeXsXLSgCL",
        "outputId": "605fe831-4ba0-4290-d8b9-78a39f94aa4c"
      },
      "source": [
        "arr1=np.arange(10).reshape(2,5)\r\n",
        "arr2=np.ones((2,5))\r\n",
        "arr3=np.append(arr1,arr2,axis=0)\r\n",
        "arr3"
      ],
      "execution_count": 7,
      "outputs": [
        {
          "output_type": "execute_result",
          "data": {
            "text/plain": [
              "array([[0., 1., 2., 3., 4.],\n",
              "       [5., 6., 7., 8., 9.],\n",
              "       [1., 1., 1., 1., 1.],\n",
              "       [1., 1., 1., 1., 1.]])"
            ]
          },
          "metadata": {
            "tags": []
          },
          "execution_count": 7
        }
      ]
    },
    {
      "cell_type": "markdown",
      "metadata": {
        "id": "N7Fx8ujaTG5U"
      },
      "source": [
        "**Question:3**\r\n",
        "How to stack two arrays horizontally?\r\n",
        "\r\n",
        "Desired Output::\r\n",
        "\r\n",
        "array([[0, 1, 2, 3, 4, 1, 1, 1, 1, 1], [5, 6, 7, 8, 9, 1, 1, 1, 1, 1]])"
      ]
    },
    {
      "cell_type": "code",
      "metadata": {
        "colab": {
          "base_uri": "https://localhost:8080/"
        },
        "id": "Xz4eMeVBTMzk",
        "outputId": "1a9b25d2-bf3f-4024-e3f3-dd257c38c035"
      },
      "source": [
        "arr1=np.arange(10).reshape(2,5)\r\n",
        "arr2=np.ones((2,5))\r\n",
        "arr3=np.append(arr1,arr2,axis=1)\r\n",
        "arr3"
      ],
      "execution_count": 8,
      "outputs": [
        {
          "output_type": "execute_result",
          "data": {
            "text/plain": [
              "array([[0., 1., 2., 3., 4., 1., 1., 1., 1., 1.],\n",
              "       [5., 6., 7., 8., 9., 1., 1., 1., 1., 1.]])"
            ]
          },
          "metadata": {
            "tags": []
          },
          "execution_count": 8
        }
      ]
    },
    {
      "cell_type": "markdown",
      "metadata": {
        "id": "V9FnQRpVTe59"
      },
      "source": [
        "**Question:4**\r\n",
        "How to convert an array of arrays into a flat 1d array?\r\n",
        "\r\n",
        "Desired Output::\r\n",
        "\r\n",
        "array([0, 1, 2, 3, 4, 5, 6, 7, 8, 9])"
      ]
    },
    {
      "cell_type": "code",
      "metadata": {
        "colab": {
          "base_uri": "https://localhost:8080/"
        },
        "id": "hf8_OrLqTjfD",
        "outputId": "a60432d5-2a73-4d92-c17a-831e89d7ef59"
      },
      "source": [
        "arr1=np.arange(10).reshape(2,5)\r\n",
        "arr1.reshape(10)"
      ],
      "execution_count": 12,
      "outputs": [
        {
          "output_type": "execute_result",
          "data": {
            "text/plain": [
              "array([0, 1, 2, 3, 4, 5, 6, 7, 8, 9])"
            ]
          },
          "metadata": {
            "tags": []
          },
          "execution_count": 12
        }
      ]
    },
    {
      "cell_type": "markdown",
      "metadata": {
        "id": "jNJ1fmBmV1Wx"
      },
      "source": [
        "**Question:5**\r\n",
        "How to Convert higher dimension into one dimension?\r\n",
        "\r\n",
        "Desired Output::\r\n",
        "\r\n",
        "array([ 0, 1, 2, 3, 4, 5, 6, 7, 8, 9, 10, 11, 12, 13, 14])"
      ]
    },
    {
      "cell_type": "code",
      "metadata": {
        "colab": {
          "base_uri": "https://localhost:8080/"
        },
        "id": "0t_A8-QBV9J3",
        "outputId": "a92adb81-a8d3-44c4-c899-5f7eb59f92af"
      },
      "source": [
        "arr1=np.arange(15).reshape(3,5)\r\n",
        "arr1"
      ],
      "execution_count": 15,
      "outputs": [
        {
          "output_type": "execute_result",
          "data": {
            "text/plain": [
              "array([[ 0,  1,  2,  3,  4],\n",
              "       [ 5,  6,  7,  8,  9],\n",
              "       [10, 11, 12, 13, 14]])"
            ]
          },
          "metadata": {
            "tags": []
          },
          "execution_count": 15
        }
      ]
    },
    {
      "cell_type": "code",
      "metadata": {
        "colab": {
          "base_uri": "https://localhost:8080/"
        },
        "id": "14mFeSW4WQkX",
        "outputId": "3013e41b-52d6-405a-a282-25380ff528fa"
      },
      "source": [
        "arr1.reshape(15)"
      ],
      "execution_count": 16,
      "outputs": [
        {
          "output_type": "execute_result",
          "data": {
            "text/plain": [
              "array([ 0,  1,  2,  3,  4,  5,  6,  7,  8,  9, 10, 11, 12, 13, 14])"
            ]
          },
          "metadata": {
            "tags": []
          },
          "execution_count": 16
        }
      ]
    },
    {
      "cell_type": "markdown",
      "metadata": {
        "id": "w2e_m_cPWSm2"
      },
      "source": [
        "**Question:6**\r\n",
        "Convert one dimension to higher dimension?\r\n",
        "\r\n",
        "Desired Output::\r\n",
        "\r\n",
        "array([[ 0, 1, 2], [ 3, 4, 5], [ 6, 7, 8], [ 9, 10, 11], [12, 13, 14]])"
      ]
    },
    {
      "cell_type": "code",
      "metadata": {
        "colab": {
          "base_uri": "https://localhost:8080/"
        },
        "id": "nWBiM4-6WWvU",
        "outputId": "86b7957a-5d87-4fd2-fc34-ab3eef949384"
      },
      "source": [
        "arr1=np.arange(15)\r\n",
        "arr1"
      ],
      "execution_count": 18,
      "outputs": [
        {
          "output_type": "execute_result",
          "data": {
            "text/plain": [
              "array([ 0,  1,  2,  3,  4,  5,  6,  7,  8,  9, 10, 11, 12, 13, 14])"
            ]
          },
          "metadata": {
            "tags": []
          },
          "execution_count": 18
        }
      ]
    },
    {
      "cell_type": "code",
      "metadata": {
        "colab": {
          "base_uri": "https://localhost:8080/"
        },
        "id": "iMWF4HhoWl2P",
        "outputId": "55601303-5996-4b11-9e15-ffdca6286df5"
      },
      "source": [
        "arr1.reshape(5,3)"
      ],
      "execution_count": 20,
      "outputs": [
        {
          "output_type": "execute_result",
          "data": {
            "text/plain": [
              "array([[ 0,  1,  2],\n",
              "       [ 3,  4,  5],\n",
              "       [ 6,  7,  8],\n",
              "       [ 9, 10, 11],\n",
              "       [12, 13, 14]])"
            ]
          },
          "metadata": {
            "tags": []
          },
          "execution_count": 20
        }
      ]
    },
    {
      "cell_type": "markdown",
      "metadata": {
        "id": "IQz1L-cDW0vT"
      },
      "source": [
        "**Question:7**\r\n",
        "Create 5x5 an array and find the square of an array?"
      ]
    },
    {
      "cell_type": "code",
      "metadata": {
        "colab": {
          "base_uri": "https://localhost:8080/"
        },
        "id": "ma14wXBRW4Zk",
        "outputId": "b5980c3d-8718-47e5-a5ec-a15e111c52f4"
      },
      "source": [
        "arr1=np.arange(25).reshape(5,5)\r\n",
        "np.square(arr1)"
      ],
      "execution_count": 21,
      "outputs": [
        {
          "output_type": "execute_result",
          "data": {
            "text/plain": [
              "array([[  0,   1,   4,   9,  16],\n",
              "       [ 25,  36,  49,  64,  81],\n",
              "       [100, 121, 144, 169, 196],\n",
              "       [225, 256, 289, 324, 361],\n",
              "       [400, 441, 484, 529, 576]])"
            ]
          },
          "metadata": {
            "tags": []
          },
          "execution_count": 21
        }
      ]
    },
    {
      "cell_type": "markdown",
      "metadata": {
        "id": "cDJtKCT3Y95l"
      },
      "source": [
        "**Question:8**\r\n",
        "Create 5x6 an array and find the mean?"
      ]
    },
    {
      "cell_type": "code",
      "metadata": {
        "colab": {
          "base_uri": "https://localhost:8080/"
        },
        "id": "-6SQc1sXZBxI",
        "outputId": "56ee77be-ba9a-4275-a814-07c93c8cc2cf"
      },
      "source": [
        "arr1=np.arange(30).reshape(5,6)\r\n",
        "np.mean(arr1)"
      ],
      "execution_count": 24,
      "outputs": [
        {
          "output_type": "execute_result",
          "data": {
            "text/plain": [
              "14.5"
            ]
          },
          "metadata": {
            "tags": []
          },
          "execution_count": 24
        }
      ]
    },
    {
      "cell_type": "markdown",
      "metadata": {
        "id": "h9N7cQofatfa"
      },
      "source": [
        "**Question:9**\r\n",
        "Find the standard deviation of the previous array in Q8?"
      ]
    },
    {
      "cell_type": "code",
      "metadata": {
        "colab": {
          "base_uri": "https://localhost:8080/"
        },
        "id": "XM33KcxBax0H",
        "outputId": "76ef5088-0bee-42a4-bbd6-4d28a21b1ef5"
      },
      "source": [
        "np.std(arr1)"
      ],
      "execution_count": 25,
      "outputs": [
        {
          "output_type": "execute_result",
          "data": {
            "text/plain": [
              "8.65544144839919"
            ]
          },
          "metadata": {
            "tags": []
          },
          "execution_count": 25
        }
      ]
    },
    {
      "cell_type": "markdown",
      "metadata": {
        "id": "v0r-5vC1b3Zp"
      },
      "source": [
        "**Question:10**\r\n",
        "Find the median of the previous array in Q8?"
      ]
    },
    {
      "cell_type": "code",
      "metadata": {
        "colab": {
          "base_uri": "https://localhost:8080/"
        },
        "id": "KO1bNga2cDai",
        "outputId": "03d0ef3a-0b31-4181-a3a3-d3d04ddb65ee"
      },
      "source": [
        "np.median(arr1)"
      ],
      "execution_count": 26,
      "outputs": [
        {
          "output_type": "execute_result",
          "data": {
            "text/plain": [
              "14.5"
            ]
          },
          "metadata": {
            "tags": []
          },
          "execution_count": 26
        }
      ]
    },
    {
      "cell_type": "markdown",
      "metadata": {
        "id": "1KkByJLacmKq"
      },
      "source": [
        "**Question:11**\r\n",
        "Find the transpose of the previous array in Q8?"
      ]
    },
    {
      "cell_type": "code",
      "metadata": {
        "colab": {
          "base_uri": "https://localhost:8080/"
        },
        "id": "SglrEf5fcoro",
        "outputId": "8b7607ac-2d13-4be8-fd0c-7397d9265ea3"
      },
      "source": [
        "np.transpose(arr1)"
      ],
      "execution_count": 27,
      "outputs": [
        {
          "output_type": "execute_result",
          "data": {
            "text/plain": [
              "array([[ 0,  6, 12, 18, 24],\n",
              "       [ 1,  7, 13, 19, 25],\n",
              "       [ 2,  8, 14, 20, 26],\n",
              "       [ 3,  9, 15, 21, 27],\n",
              "       [ 4, 10, 16, 22, 28],\n",
              "       [ 5, 11, 17, 23, 29]])"
            ]
          },
          "metadata": {
            "tags": []
          },
          "execution_count": 27
        }
      ]
    },
    {
      "cell_type": "markdown",
      "metadata": {
        "id": "jQx5t4vecw_C"
      },
      "source": [
        "**Question:12**\r\n",
        "Create a 4x4 an array and find the sum of diagonal elements?"
      ]
    },
    {
      "cell_type": "code",
      "metadata": {
        "colab": {
          "base_uri": "https://localhost:8080/"
        },
        "id": "3-T9E_Sjc1px",
        "outputId": "01fa35da-6dfe-4a1d-9198-0f25ef93094c"
      },
      "source": [
        "arr2=np.arange(16).reshape(4,4)\r\n",
        "np.sum(arr2*np.eye(4))"
      ],
      "execution_count": 31,
      "outputs": [
        {
          "output_type": "execute_result",
          "data": {
            "text/plain": [
              "30.0"
            ]
          },
          "metadata": {
            "tags": []
          },
          "execution_count": 31
        }
      ]
    },
    {
      "cell_type": "markdown",
      "metadata": {
        "id": "K0ExWWksd5KT"
      },
      "source": [
        "**Question:13**\r\n",
        "Find the determinant of the previous array in Q12?"
      ]
    },
    {
      "cell_type": "code",
      "metadata": {
        "colab": {
          "base_uri": "https://localhost:8080/"
        },
        "id": "uDb2Hx61d_lE",
        "outputId": "be17be3e-64b9-4099-9e4a-883fb2b00bbc"
      },
      "source": [
        "arr2=np.arange(16).reshape(4,4)\r\n",
        "arr2=arr2*np.eye(4)\r\n",
        "np.linalg.det(arr2)"
      ],
      "execution_count": 32,
      "outputs": [
        {
          "output_type": "execute_result",
          "data": {
            "text/plain": [
              "0.0"
            ]
          },
          "metadata": {
            "tags": []
          },
          "execution_count": 32
        }
      ]
    },
    {
      "cell_type": "markdown",
      "metadata": {
        "id": "PEbEsWm-gDWZ"
      },
      "source": [
        "**Question:14**\r\n",
        "Find the 5th and 95th percentile of an array?"
      ]
    },
    {
      "cell_type": "code",
      "metadata": {
        "colab": {
          "base_uri": "https://localhost:8080/"
        },
        "id": "cAeWolOLhbQR",
        "outputId": "c10b1025-bc19-4682-c227-e07f76556f68"
      },
      "source": [
        "arr=np.arange(16).reshape(4,4)\r\n",
        "np.percentile(arr,5)"
      ],
      "execution_count": 34,
      "outputs": [
        {
          "output_type": "execute_result",
          "data": {
            "text/plain": [
              "0.75"
            ]
          },
          "metadata": {
            "tags": []
          },
          "execution_count": 34
        }
      ]
    },
    {
      "cell_type": "code",
      "metadata": {
        "colab": {
          "base_uri": "https://localhost:8080/"
        },
        "id": "YSfLX3y-usCk",
        "outputId": "419cf77a-9899-4cb1-b45f-d09ce6ddb7a6"
      },
      "source": [
        "np.percentile(arr,95)"
      ],
      "execution_count": 35,
      "outputs": [
        {
          "output_type": "execute_result",
          "data": {
            "text/plain": [
              "14.25"
            ]
          },
          "metadata": {
            "tags": []
          },
          "execution_count": 35
        }
      ]
    },
    {
      "cell_type": "markdown",
      "metadata": {
        "id": "NKohScMcuwtr"
      },
      "source": [
        "**Question:15**\r\n",
        "How to find if a given array has any null values?"
      ]
    },
    {
      "cell_type": "code",
      "metadata": {
        "colab": {
          "base_uri": "https://localhost:8080/"
        },
        "id": "LCjh6G2Ywuen",
        "outputId": "a84d20e8-2544-4f30-d452-df3885ccbcc1"
      },
      "source": [
        "arr=np.arange(10)\r\n",
        "np.isnan(arr)"
      ],
      "execution_count": 36,
      "outputs": [
        {
          "output_type": "execute_result",
          "data": {
            "text/plain": [
              "array([False, False, False, False, False, False, False, False, False,\n",
              "       False])"
            ]
          },
          "metadata": {
            "tags": []
          },
          "execution_count": 36
        }
      ]
    }
  ]
}